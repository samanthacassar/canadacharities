{
 "cells": [
  {
   "cell_type": "markdown",
   "metadata": {},
   "source": [
    "# data import & prep"
   ]
  },
  {
   "cell_type": "code",
   "execution_count": 1,
   "metadata": {
    "colab": {},
    "colab_type": "code",
    "id": "BUtu5-y_v5fF"
   },
   "outputs": [],
   "source": [
    "import sys\n",
    "import numpy as np\n",
    "from os import listdir\n",
    "from os.path import isfile, join\n",
    "import pandas as pd\n",
    "\n",
    "from datetime import date\n",
    "from datetime import datetime\n",
    "import warnings \n",
    "warnings.filterwarnings(action='ignore')"
   ]
  },
  {
   "cell_type": "markdown",
   "metadata": {
    "colab_type": "text",
    "id": "LC5qwvHmp0Fa"
   },
   "source": [
    "# Data Overview & Import"
   ]
  },
  {
   "cell_type": "markdown",
   "metadata": {
    "colab_type": "text",
    "id": "EjvAUXgkv5fL"
   },
   "source": [
    "## REGISTERED"
   ]
  },
  {
   "cell_type": "code",
   "execution_count": 2,
   "metadata": {
    "colab": {},
    "colab_type": "code",
    "id": "F6phTHMFYSIB",
    "scrolled": true
   },
   "outputs": [],
   "source": [
    "registered_path = r'E:\\Projects\\canadacharities\\data\\raw\\Registered'\n",
    "registered_files = [f for f in listdir(registered_path) if isfile(join(registered_path, f))]\n",
    "\n",
    "registered_path = registered_path + '\\\\'\n",
    "\n",
    "financial_df1 = pd.read_csv(registered_path + 'Financial Section A_ B and C.csv', encoding='latin-1', dtype=str)\n",
    "financial_df2 = pd.read_csv(registered_path + 'Financial Section D & Schedule 6.csv', encoding='latin-1', dtype=str)\n",
    "identities_df = pd.read_csv(registered_path + 'Ident.csv', encoding='latin-1', dtype=str)\n",
    "\n",
    "#setting up lookup tables\n",
    "category_table = pd.read_csv(registered_path + '# Category_Sub-Category.csv', encoding='latin-1', dtype=str)\n",
    "designation_table = pd.read_csv(registered_path + '# Designation.csv', encoding='latin-1', dtype=str)\n",
    "programs_table = pd.read_csv(registered_path + '# Programs.csv', encoding='latin-1', dtype=str)\n",
    "\n",
    "category_table = category_table[['Category Code','Category English Desc', 'Sub-Category Code', 'Sub-Category English Desc']] \\\n",
    "                .rename(columns={'Category English Desc':'Category', 'Sub-Category English Desc':'Sub-Category'})\n",
    "    \n",
    "designation_table = designation_table[['Designation Code', 'Description_E']] \\\n",
    "                    .rename(columns={'Description_E':'Designation'})\n",
    "    \n",
    "programs_table = programs_table[['Line 1200, 1210, 1220', 'English Description']] \\\n",
    "                .rename(columns={'Line 1200, 1210, 1220':'Program Code', 'English Description':'Program'})"
   ]
  },
  {
   "cell_type": "markdown",
   "metadata": {
    "colab_type": "text",
    "id": "jHQlRivDYSJG"
   },
   "source": [
    "# REVOKED/ANNULLED"
   ]
  },
  {
   "cell_type": "code",
   "execution_count": 3,
   "metadata": {
    "colab": {},
    "colab_type": "code",
    "id": "ilGzo3A_YSJJ",
    "scrolled": false
   },
   "outputs": [],
   "source": [
    "revoked_path = r'E:\\projects\\canadacharities\\data\\raw\\Revoked and Annulled'\n",
    "revoked_files = [f for f in listdir(revoked_path) if isfile(join(revoked_path, f))]\n",
    "\n",
    "revoked_path = revoked_path + '\\\\'\n",
    "revoked_df = pd.read_csv(revoked_path + 'List of revoked & annulled charities.csv', encoding='latin-1', dtype=str)\n",
    "\n",
    "reason_table = pd.read_csv(revoked_path + '# Reason.csv', encoding='latin-1', dtype=str)\n",
    "reason_table = reason_table[['ReasonCode', 'DescriptionE']].rename(columns={'DescriptionE': 'Revoked Reason'})\n",
    "\n",
    "revoked_df = pd.merge(revoked_df, reason_table, left_on='Reason code', right_on='ReasonCode', how='left')\n",
    "\n",
    "revoked_df['Revoked Date'] = revoked_df['Effective date of status'].apply(lambda x: datetime.strptime(x, '%Y-%m-%d %H:%M:%S'))\n",
    "\n",
    "#filtering for revoked charities whose status was revoked since 2018, the year for which we have charity data.\n",
    "revoked_df = revoked_df[revoked_df['Revoked Date'] >= pd.Timestamp(2018,1,1)]\n",
    "revoked_df = revoked_df[['BN/Registration number', 'Legal name', 'Revoked Date', 'Revoked Reason']]"
   ]
  },
  {
   "cell_type": "markdown",
   "metadata": {
    "colab_type": "text",
    "id": "4YoJjDpnv5fo"
   },
   "source": [
    "# Data setup"
   ]
  },
  {
   "cell_type": "markdown",
   "metadata": {
    "colab_type": "text",
    "id": "H8kFVD_yp0G3"
   },
   "source": [
    "Let's create a new dataset to characterize each charity, using the lookup tables to fill in coded information."
   ]
  },
  {
   "cell_type": "code",
   "execution_count": 4,
   "metadata": {
    "colab": {},
    "colab_type": "code",
    "id": "AgspaUrtR2op"
   },
   "outputs": [],
   "source": [
    "df = pd.merge(identities_df, financial_df1, left_on='BN/Registration Number', right_on='BN/Registration number', how='outer')\n",
    "df = pd.merge(df, financial_df2, left_on='BN/Registration Number', right_on='BN/Registration number', how='outer')\n",
    "\n",
    "df['Category code'] = df['Category code'].astype(int).astype(str)\n",
    "df['Sub-category code'] = df['Sub-category code'].astype(int).astype(str)\n",
    "\n",
    "df = pd.merge(df, category_table, how='left', left_on=['Category code', 'Sub-category code'], right_on=['Category Code', 'Sub-Category Code'])\n",
    "df = pd.merge(df, designation_table, left_on='Designation code', right_on='Designation Code', how='left')\n",
    "\n",
    "df = pd.merge(df, programs_table, left_on='1200 Program Area Code', right_on='Program Code', how='left').rename(columns={'Program':'1200 Program Area'})\n",
    "df = pd.merge(df, programs_table, left_on='1210 Program Area Code', right_on='Program Code', how='left').rename(columns={'Program':'1210 Program Area'})\n",
    "df = pd.merge(df, programs_table, left_on='1220 Program Area Code', right_on='Program Code', how='left').rename(columns={'Program':'1220 Program Area'})\n",
    "\n",
    "df = pd.merge(df, revoked_df, how='left', left_on='BN/Registration Number', right_on='BN/Registration number')"
   ]
  },
  {
   "cell_type": "markdown",
   "metadata": {
    "colab_type": "text",
    "id": "xNMTC6FbR2o0"
   },
   "source": [
    "## Missing data"
   ]
  },
  {
   "cell_type": "code",
   "execution_count": 5,
   "metadata": {
    "colab": {},
    "colab_type": "code",
    "id": "DmJnjT2_R2o1",
    "outputId": "d3bf6500-10aa-4b11-b094-4d4b7358788d"
   },
   "outputs": [
    {
     "name": "stdout",
     "output_type": "stream",
     "text": [
      "There are 84548 charities with 2018 information filed, 4373 revoked charities, and 2916 charities who have revoked their status since 2018 but are missing 2018 information on file. \n",
      " \n",
      "This means we only have information for 1457 revoked charities, or 33% of total revoked charities.\n"
     ]
    }
   ],
   "source": [
    "#checking for missing revoked data\n",
    "filed_charities = len(df['BN/Registration Number'])\n",
    "revoked_charities = len(revoked_df['BN/Registration number'])\n",
    "missing_revoked_charities = len(set(revoked_df['BN/Registration number']) - set(df['BN/Registration Number']))\n",
    "filed_revoked_charities = len(set(revoked_df['BN/Registration number']) & set(df['BN/Registration Number']))\n",
    "\n",
    "print(\"There are {} charities with 2018 information filed, {} revoked charities, and {} charities who have revoked their status since 2018 but are missing 2018 information on file. \\n \\nThis means we only have information for {} revoked charities, or {}% of total revoked charities.\".format(filed_charities, revoked_charities, missing_revoked_charities, filed_revoked_charities, round(filed_revoked_charities / revoked_charities * 100)))"
   ]
  },
  {
   "cell_type": "markdown",
   "metadata": {
    "colab_type": "text",
    "id": "9XoDvVwdv5fx"
   },
   "source": [
    "# Data cleaning"
   ]
  },
  {
   "cell_type": "code",
   "execution_count": 6,
   "metadata": {
    "colab": {},
    "colab_type": "code",
    "id": "sauRmfeJv5fx"
   },
   "outputs": [],
   "source": [
    "#remove duplicate columns\n",
    "df = df[df.columns.drop(list(df.filter(regex='_y')))]\n",
    "df.columns = df.columns.str.rstrip('_x')\n",
    "\n",
    "#keep only first row if charity appears more than once\n",
    "df.drop_duplicates(subset='BN/Registration Number', keep = 'first', inplace = True)\n",
    "\n",
    "#create status flag\n",
    "df['Status'] = np.nan\n",
    "df.loc[df['Revoked Reason'].isnull(), 'Status'] = 'Registered'\n",
    "df.loc[df['Status'] != 'Registered', 'Status'] = 'Revoked'\n",
    "\n",
    "#Bring in data dictionary with data types to assign each column\n",
    "data_dic = pd.read_csv(r'E:\\Projects\\canadacharities\\data\\external\\data_dictionary.csv')\n",
    "\n",
    "#make list of columns that need to be float type\n",
    "float_list = list(data_dic.loc[data_dic['data_type']=='float','column_name'])\n",
    "\n",
    "#make list of columns that need to be bool type\n",
    "bool_list = list(data_dic.loc[data_dic['data_type']=='bool','column_name'])\n",
    "\n",
    "#change columns in float list to float\n",
    "df[float_list] = df[float_list].apply(lambda x: x.str.replace(',', '')) #remove leading $ character\n",
    "df[float_list] = df[float_list].apply(lambda x: x.str.replace('$', '')) #remove commas from numbers\n",
    "df[float_list] = df[float_list].apply(pd.to_numeric)\n",
    "\n",
    "#change columns in bool list to bool\n",
    "df[bool_list] = df[bool_list].apply(lambda x : np.where(x == 'Y', '1', np.where(x == 'N', '0', np.nan)))\n",
    "\n",
    "#filtering for charities only (75% of total rows)\n",
    "df = df[df['Designation']=='Charitable Organization']\n",
    "\n",
    "'''\n",
    "#removing columns with more than 50% of data missing, keeping 'Revoked Date'\n",
    "columns = np.append(df.columns[df.isnull().mean() <= 0.5], ['Revoked Date', 'Revoked Reason'])\n",
    "df = df[columns]\n",
    "'''\n",
    "\n",
    "#putting registration date into datetime format\n",
    "df['Registration date'] = df['Registration date'].apply(lambda x: datetime.strptime(x, '%Y-%m-%d %H:%M:%S'))\n",
    "\n",
    "#Montreal appears as both MONTREAL and MONTRÉAL - let's fix this\n",
    "df.loc[df['City']=='MONTRÉAL', 'City'] = 'MONTREAL'"
   ]
  },
  {
   "cell_type": "markdown",
   "metadata": {},
   "source": [
    "## Financial data"
   ]
  },
  {
   "cell_type": "code",
   "execution_count": 7,
   "metadata": {},
   "outputs": [],
   "source": [
    "#create metrics for comparing charities\n",
    "df['assets_vs_liabilities'] = df['4200'] / df['4350']\n",
    "df['revenue_vs_expenditures'] = df['4700'] / df['5100']\n",
    "df['accumulated_vs_disbursed'] = df['5500'] / df['5510']"
   ]
  },
  {
   "cell_type": "code",
   "execution_count": 8,
   "metadata": {
    "scrolled": true
   },
   "outputs": [],
   "source": [
    "#total revenue name [4700]\n",
    "#total expenditure column name [5100]\n",
    "\n",
    "revenue_list = list(data_dic.loc[data_dic['category']=='Revenue', 'column_name'])\n",
    "expenditures_list = list(data_dic.loc[data_dic['category']=='Expenditures', 'column_name'])\n",
    "\n",
    "#add suffix to revenue list to prevent saving over values\n",
    "revenue_perc_list = ['{}_perc_revenue'.format(x) for x in revenue_list]\n",
    "expenditures_perc_list = ['{}_perc_expenditures'.format(x) for x in expenditures_list]    \n",
    "\n",
    "df[revenue_perc_list] = df[revenue_list].div(df['4700'], axis=0)\n",
    "df[expenditures_perc_list] = df[expenditures_list].div(df['5100'], axis=0)"
   ]
  },
  {
   "cell_type": "code",
   "execution_count": 11,
   "metadata": {},
   "outputs": [],
   "source": [
    "#replace infinite values with nan\n",
    "df = df.replace([np.inf, -np.inf], np.nan)"
   ]
  },
  {
   "cell_type": "code",
   "execution_count": 12,
   "metadata": {},
   "outputs": [],
   "source": [
    "#save output for exploratory analysis\n",
    "df.to_csv('E:\\Projects\\canadacharities\\data\\interim\\charity_data.csv', index=False)"
   ]
  }
 ],
 "metadata": {
  "colab": {
   "name": "Charity Analysis.ipynb",
   "provenance": []
  },
  "kernelspec": {
   "display_name": "Python 3",
   "language": "python",
   "name": "python3"
  },
  "language_info": {
   "codemirror_mode": {
    "name": "ipython",
    "version": 3
   },
   "file_extension": ".py",
   "mimetype": "text/x-python",
   "name": "python",
   "nbconvert_exporter": "python",
   "pygments_lexer": "ipython3",
   "version": "3.8.3"
  }
 },
 "nbformat": 4,
 "nbformat_minor": 1
}
